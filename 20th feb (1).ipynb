{
 "cells": [
  {
   "cell_type": "markdown",
   "id": "a6f9b5d5-2fae-442a-878f-ae65f0b6775e",
   "metadata": {},
   "source": [
    "# Q1: Explain GET and POST methods.\n",
    "\n",
    "GET Method:\n",
    "\n",
    "Used to request data from a specified resource.\n",
    "Data is sent as parameters in the URL.\n",
    "It is less secure for sensitive information as data is visible in the URL.\n",
    "It is cached by browsers, making it suitable for idempotent operations.\n",
    "POST Method:\n",
    "\n",
    "Used to submit data to be processed to a specified resource.\n",
    "Data is sent in the request body, not in the URL.\n",
    "Suitable for sensitive information as data is not visible in the URL.\n",
    "Not cached by browsers, making it suitable for non-idempotent operations.\n",
    "# Q2: Why is request used in Flask?\n",
    "\n",
    "In Flask, the request object is used to access incoming request data. It allows you to interact with form data, query parameters, cookies, and other aspects of the incoming request. It provides a convenient way to extract and handle data submitted by the client in a Flask application.\n",
    "\n",
    "# Q3: Why is redirect() used in Flask?\n",
    "\n",
    "The redirect() function in Flask is used to redirect the client to a different URL. It is commonly used after processing a form submission or handling a certain route to guide the user to another part of the application. It helps in improving the user experience by navigating them to the appropriate page.\n",
    "\n",
    "# Q4: What are templates in Flask? Why is the render_template() function used?\n",
    "\n",
    "In Flask, templates are used to generate HTML dynamically. They allow you to insert dynamic content, control structures, and logic into HTML files. The render_template() function is used to render templates in Flask. It takes the name of the template file and any variables needed for rendering. The function looks for the template in the \"templates\" folder in your Flask application.\n",
    "\n",
    "# Q5: Create a simple API. Use Postman to test it. Attach the screenshot of the output in the Jupyter Notebook.\n",
    "\n",
    "Let's create a simple API using Flask:\n",
    "\n",
    "python\n",
    "Copy code\n",
    "from flask import Flask, jsonify\n",
    "\n",
    "app = Flask(__name__)\n",
    "\n",
    "@app.route('/api/greet', methods=['GET'])\n",
    "def greet():\n",
    "    return jsonify(message='Hello, welcome to the API!')\n",
    "\n",
    "if __name__ == '__main__':\n",
    "    app.run(debug=True)\n",
    "Save this in a file named app.py. Now, use Postman to test it:\n",
    "\n",
    "Open Postman.\n",
    "Set the request type to GET.\n",
    "Enter the URL: http://127.0.0.1:5000/api/greet.\n",
    "Click \"Send.\""
   ]
  },
  {
   "cell_type": "code",
   "execution_count": null,
   "id": "6e0f2714-56e5-416b-94f1-5911271cab3a",
   "metadata": {},
   "outputs": [],
   "source": []
  }
 ],
 "metadata": {
  "kernelspec": {
   "display_name": "Python 3 (ipykernel)",
   "language": "python",
   "name": "python3"
  },
  "language_info": {
   "codemirror_mode": {
    "name": "ipython",
    "version": 3
   },
   "file_extension": ".py",
   "mimetype": "text/x-python",
   "name": "python",
   "nbconvert_exporter": "python",
   "pygments_lexer": "ipython3",
   "version": "3.10.8"
  }
 },
 "nbformat": 4,
 "nbformat_minor": 5
}
